{
 "cells": [
  {
   "cell_type": "code",
   "execution_count": 1,
   "metadata": {},
   "outputs": [],
   "source": [
    "#import dependecies\n",
    "import os\n",
    "from bs4 import BeautifulSoup as bs\n",
    "import pandas as pd\n",
    "from splinter import Browser\n",
    "import time"
   ]
  },
  {
   "cell_type": "code",
   "execution_count": 4,
   "metadata": {},
   "outputs": [],
   "source": [
    "# chrome driver \n",
    "executable_path = {'executable_path': 'chromedriver.exe'}\n",
    "browser = Browser('chrome', **executable_path, headless=False)\n",
    "# pull in web page\n",
    "url = \"https://mars.nasa.gov/news/?page=0&per_page=40&order=publish_date+desc%2Ccreated_at+desc&search=&category=19%2C165%2C184%2C204&blank_scope=Latest\"\n",
    "browser.visit(url)\n",
    "#beaututiful soup to HTML\n",
    "html = browser.html\n",
    "soup = bs(html,\"html.parser\")"
   ]
  },
  {
   "cell_type": "code",
   "execution_count": 5,
   "metadata": {},
   "outputs": [
    {
     "name": "stdout",
     "output_type": "stream",
     "text": [
      "Title: Robotic Toolkit Added to NASA's Mars 2020 Rover\n",
      "Para: The bit carousel, which lies at the heart of the rover's Sample Caching System, is now aboard NASA's newest rover. \n"
     ]
    }
   ],
   "source": [
    "#scrape news title and news paragraph\n",
    "news_title = soup.find(\"div\",class_=\"content_title\").text\n",
    "news_p = soup.find(\"div\", class_=\"article_teaser_body\").text\n",
    "print(f\"Title: {news_title}\")\n",
    "print(f\"Para: {news_p}\")"
   ]
  },
  {
   "cell_type": "code",
   "execution_count": 8,
   "metadata": {},
   "outputs": [
    {
     "name": "stdout",
     "output_type": "stream",
     "text": [
      "https://www.jpl.nasa.gov/spaceimages/images/mediumsize/PIA07137_ip.jpg\n"
     ]
    }
   ],
   "source": [
    "#scrape featured image from nasa site\n",
    "executable_path = {'executable_path': 'chromedriver.exe'}\n",
    "browser = Browser('chrome', **executable_path, headless=False)\n",
    "\n",
    "featured_url_image = \"https://www.jpl.nasa.gov/spaceimages/?search=&category=Mars\"\n",
    "browser.visit(featured_url_image)\n",
    "\n",
    "browser.click_link_by_partial_text(\"FULL IMAGE\")\n",
    "\n",
    "expand = browser.find_by_css('a.fancybox-expand')\n",
    "expand.click()\n",
    "\n",
    "#get image url using BeautifulSoup\n",
    "html_image = browser.html\n",
    "soup = bs(html_image, \"html.parser\")\n",
    "img_url = soup.find(\"img\", class_=\"fancybox-image\")[\"src\"]\n",
    "full_img_url = f'https://www.jpl.nasa.gov{img_url}'\n",
    "print(full_img_url)"
   ]
  },
  {
   "cell_type": "code",
   "execution_count": 9,
   "metadata": {},
   "outputs": [
    {
     "name": "stdout",
     "output_type": "stream",
     "text": [
      "InSight sol 258 (2019-08-18) low -100.0ºC (-148.1ºF) high -26.2ºC (-15.2ºF)\n",
      "winds from the SSE at 5.3 m/s (11.9 mph) gusting to 16.8 m/s (37.6 mph)\n",
      "pressure at 7.60 hPapic.twitter.com/5nCVjcsmlZ\n"
     ]
    }
   ],
   "source": [
    "#scrape Mars weather\n",
    "executable_path = {'executable_path': 'chromedriver.exe'}\n",
    "browser = Browser('chrome', **executable_path, headless=False)\n",
    "\n",
    "url = \"https://twitter.com/marswxreport?lang=en\"\n",
    "browser.visit(url)\n",
    "\n",
    "html_weather = browser.html\n",
    "soup = bs(html_weather, \"html.parser\")\n",
    "tweets = soup.find('ol', class_='stream-items')\n",
    "mars_weather = tweets.find(\"p\", class_=\"tweet-text\").text\n",
    "print(mars_weather)\n"
   ]
  },
  {
   "cell_type": "code",
   "execution_count": 17,
   "metadata": {},
   "outputs": [
    {
     "ename": "AttributeError",
     "evalue": "'NoneType' object has no attribute 'findAll'",
     "output_type": "error",
     "traceback": [
      "\u001b[1;31m---------------------------------------------------------------------------\u001b[0m",
      "\u001b[1;31mAttributeError\u001b[0m                            Traceback (most recent call last)",
      "\u001b[1;32m<ipython-input-17-8cf03bb27fde>\u001b[0m in \u001b[0;36m<module>\u001b[1;34m\u001b[0m\n\u001b[0;32m     10\u001b[0m \u001b[1;33m\u001b[0m\u001b[0m\n\u001b[0;32m     11\u001b[0m \u001b[0mmars_table\u001b[0m \u001b[1;33m=\u001b[0m \u001b[0mmars_soup\u001b[0m\u001b[1;33m.\u001b[0m\u001b[0mfind\u001b[0m\u001b[1;33m(\u001b[0m\u001b[1;34m'table'\u001b[0m\u001b[1;33m,\u001b[0m \u001b[0mclass_\u001b[0m\u001b[1;33m=\u001b[0m\u001b[1;34m'tablepress tablepress-id-mars'\u001b[0m\u001b[1;33m)\u001b[0m\u001b[1;33m\u001b[0m\u001b[1;33m\u001b[0m\u001b[0m\n\u001b[1;32m---> 12\u001b[1;33m \u001b[0mcolumn1\u001b[0m \u001b[1;33m=\u001b[0m \u001b[0mmars_table\u001b[0m\u001b[1;33m.\u001b[0m\u001b[0mfindAll\u001b[0m\u001b[1;33m(\u001b[0m\u001b[1;34m'td'\u001b[0m\u001b[1;33m,\u001b[0m \u001b[0mclass_\u001b[0m\u001b[1;33m=\u001b[0m\u001b[1;34m'column-1'\u001b[0m\u001b[1;33m)\u001b[0m\u001b[1;33m\u001b[0m\u001b[1;33m\u001b[0m\u001b[0m\n\u001b[0m\u001b[0;32m     13\u001b[0m \u001b[0mcolumn2\u001b[0m \u001b[1;33m=\u001b[0m \u001b[0mmars_table\u001b[0m\u001b[1;33m.\u001b[0m\u001b[0mfindAll\u001b[0m\u001b[1;33m(\u001b[0m\u001b[1;34m'td'\u001b[0m\u001b[1;33m,\u001b[0m \u001b[0mclass_\u001b[0m\u001b[1;33m=\u001b[0m\u001b[1;34m'column-2'\u001b[0m\u001b[1;33m)\u001b[0m\u001b[1;33m\u001b[0m\u001b[1;33m\u001b[0m\u001b[0m\n\u001b[0;32m     14\u001b[0m \u001b[1;33m\u001b[0m\u001b[0m\n",
      "\u001b[1;31mAttributeError\u001b[0m: 'NoneType' object has no attribute 'findAll'"
     ]
    }
   ],
   "source": [
    "#scrape mars facts in table\n",
    "executable_path = {'executable_path': 'chromedriver.exe'}\n",
    "browser = Browser('chrome', **executable_path, headless=False)\n",
    "\n",
    "url = \"https://space-facts.com/mars/\"\n",
    "browser.visit(url)\n",
    "\n",
    "mars_html = browser.html\n",
    "mars_soup = bs(mars_html, 'html.parser')\n",
    "\n",
    "mars_table = mars_soup.find('table', class_='tablepress tablepress-id-mars')\n",
    "column1 = mars_table.findAll('td', class_='column-1')\n",
    "column2 = mars_table.findAll('td', class_='column-2')\n",
    "\n",
    "Categories = []\n",
    "Values = []\n",
    "\n",
    "for row in column1:\n",
    "    Category = row.text.strip()\n",
    "    Categories.append(Category)\n",
    "    \n",
    "for row in columns2:\n",
    "    Value = row.text.strip()\n",
    "    Values.append(value)\n",
    "\n",
    "mars_facts = pd.DataFrame({\"Category\":Categories,\n",
    "                          \"Value\":Values})\n",
    "\n",
    "mars_facts_html = mars_facts.to_html(header=False, index=False)\n",
    "print(mars_facts)\n"
   ]
  },
  {
   "cell_type": "code",
   "execution_count": 15,
   "metadata": {},
   "outputs": [
    {
     "name": "stdout",
     "output_type": "stream",
     "text": [
      "Cerberus Hemisphere \n",
      "https://astropedia.astrogeology.usgs.gov/download/Mars/Viking/cerberus_enhanced.tif/full.jpg\n",
      "Schiaparelli Hemisphere \n",
      "https://astropedia.astrogeology.usgs.gov/download/Mars/Viking/schiaparelli_enhanced.tif/full.jpg\n",
      "Syrtis Major Hemisphere \n",
      "https://astropedia.astrogeology.usgs.gov/download/Mars/Viking/syrtis_major_enhanced.tif/full.jpg\n",
      "Valles Marineris Hemisphere \n",
      "https://astropedia.astrogeology.usgs.gov/download/Mars/Viking/valles_marineris_enhanced.tif/full.jpg\n"
     ]
    }
   ],
   "source": [
    "#scrape hemispheres\n",
    "mars_hemisphere_url = 'https://astrogeology.usgs.gov/search/results?q=hemisphere+enhanced&k1=target&v1=Mars'\n",
    "hemi_dicts = []\n",
    "\n",
    "for i in range(1,9,2):\n",
    "    hemi_dict = {}\n",
    "    \n",
    "    browser.visit(mars_hemisphere_url)\n",
    "    time.sleep(1)\n",
    "    hemispheres_html = browser.html\n",
    "    hemispheres_soup = bs(hemispheres_html, 'html.parser')\n",
    "    hemi_name_links = hemispheres_soup.find_all('a', class_='product-item')\n",
    "    hemi_name = hemi_name_links[i].text.strip('Enhanced')\n",
    "    \n",
    "    detail_links = browser.find_by_css('a.product-item')\n",
    "    detail_links[i].click()\n",
    "    time.sleep(1)\n",
    "    browser.find_link_by_text('Sample').first.click()\n",
    "    time.sleep(1)\n",
    "    browser.windows.current = browser.windows[-1]\n",
    "    hemi_img_html = browser.html\n",
    "    browser.windows.current = browser.windows[0]\n",
    "    browser.windows[-1].close()\n",
    "    \n",
    "    hemi_img_soup = bs(hemi_img_html, 'html.parser')\n",
    "    hemi_img_path = hemi_img_soup.find('img')['src']\n",
    "\n",
    "    print(hemi_name)\n",
    "    hemi_dict['title'] = hemi_name.strip()\n",
    "    \n",
    "    print(hemi_img_path)\n",
    "    hemi_dict['img_url'] = hemi_img_path\n",
    "\n",
    "    hemi_dicts.append(hemi_dict)"
   ]
  },
  {
   "cell_type": "code",
   "execution_count": null,
   "metadata": {},
   "outputs": [],
   "source": []
  }
 ],
 "metadata": {
  "kernelspec": {
   "display_name": "Python 3",
   "language": "python",
   "name": "python3"
  },
  "language_info": {
   "codemirror_mode": {
    "name": "ipython",
    "version": 3
   },
   "file_extension": ".py",
   "mimetype": "text/x-python",
   "name": "python",
   "nbconvert_exporter": "python",
   "pygments_lexer": "ipython3",
   "version": "3.7.4"
  }
 },
 "nbformat": 4,
 "nbformat_minor": 4
}
